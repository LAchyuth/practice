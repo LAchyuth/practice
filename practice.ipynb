{
 "cells": [
  {
   "cell_type": "code",
   "execution_count": 1,
   "id": "0502041c",
   "metadata": {},
   "outputs": [
    {
     "data": {
      "text/plain": [
       "['a', 'b', 'c', 45, 'da']"
      ]
     },
     "execution_count": 1,
     "metadata": {},
     "output_type": "execute_result"
    }
   ],
   "source": [
    "l1 = ['a','b','c',45,'da']\n",
    "l1"
   ]
  },
  {
   "cell_type": "code",
   "execution_count": 2,
   "id": "a8d20fa2",
   "metadata": {},
   "outputs": [
    {
     "data": {
      "text/plain": [
       "3"
      ]
     },
     "execution_count": 2,
     "metadata": {},
     "output_type": "execute_result"
    }
   ],
   "source": [
    "l1.index(45)"
   ]
  },
  {
   "cell_type": "code",
   "execution_count": 3,
   "id": "7744c2b5",
   "metadata": {},
   "outputs": [],
   "source": [
    "# l1.index('c')"
   ]
  },
  {
   "cell_type": "code",
   "execution_count": 4,
   "id": "dc3ea904",
   "metadata": {},
   "outputs": [],
   "source": [
    "del l1[l1.index('c')]"
   ]
  },
  {
   "cell_type": "code",
   "execution_count": 5,
   "id": "cd2948db",
   "metadata": {},
   "outputs": [
    {
     "data": {
      "text/plain": [
       "['a', 'b', 45, 'da']"
      ]
     },
     "execution_count": 5,
     "metadata": {},
     "output_type": "execute_result"
    }
   ],
   "source": [
    "l1"
   ]
  },
  {
   "cell_type": "code",
   "execution_count": 6,
   "id": "d064654d",
   "metadata": {},
   "outputs": [
    {
     "data": {
      "text/plain": [
       "['w', True, 1.5]"
      ]
     },
     "execution_count": 6,
     "metadata": {},
     "output_type": "execute_result"
    }
   ],
   "source": [
    "l2 = ['w',True,1.5]\n",
    "l2"
   ]
  },
  {
   "cell_type": "code",
   "execution_count": 7,
   "id": "b6739f3f",
   "metadata": {},
   "outputs": [
    {
     "data": {
      "text/plain": [
       "True"
      ]
     },
     "execution_count": 7,
     "metadata": {},
     "output_type": "execute_result"
    }
   ],
   "source": [
    "l2[1]"
   ]
  },
  {
   "cell_type": "code",
   "execution_count": 8,
   "id": "423e496c",
   "metadata": {},
   "outputs": [
    {
     "data": {
      "text/plain": [
       "True"
      ]
     },
     "execution_count": 8,
     "metadata": {},
     "output_type": "execute_result"
    }
   ],
   "source": [
    "l2[l2.index(True)]"
   ]
  },
  {
   "cell_type": "code",
   "execution_count": 9,
   "id": "8846aa2c",
   "metadata": {},
   "outputs": [
    {
     "data": {
      "text/plain": [
       "'da'"
      ]
     },
     "execution_count": 9,
     "metadata": {},
     "output_type": "execute_result"
    }
   ],
   "source": [
    "l1.pop()"
   ]
  },
  {
   "cell_type": "code",
   "execution_count": 10,
   "id": "b491be32",
   "metadata": {},
   "outputs": [
    {
     "data": {
      "text/plain": [
       "['a', 'b', 45]"
      ]
     },
     "execution_count": 10,
     "metadata": {},
     "output_type": "execute_result"
    }
   ],
   "source": [
    "l1"
   ]
  },
  {
   "cell_type": "code",
   "execution_count": 11,
   "id": "aed0a706",
   "metadata": {},
   "outputs": [
    {
     "data": {
      "text/plain": [
       "'w'"
      ]
     },
     "execution_count": 11,
     "metadata": {},
     "output_type": "execute_result"
    }
   ],
   "source": [
    "l2.pop(0)"
   ]
  },
  {
   "cell_type": "code",
   "execution_count": 12,
   "id": "4db854db",
   "metadata": {},
   "outputs": [
    {
     "data": {
      "text/plain": [
       "[True, 1.5]"
      ]
     },
     "execution_count": 12,
     "metadata": {},
     "output_type": "execute_result"
    }
   ],
   "source": [
    "l2"
   ]
  },
  {
   "cell_type": "code",
   "execution_count": 13,
   "id": "c24e4d25",
   "metadata": {},
   "outputs": [
    {
     "data": {
      "text/plain": [
       "['a', 'b', 45, True, 1.5]"
      ]
     },
     "execution_count": 13,
     "metadata": {},
     "output_type": "execute_result"
    }
   ],
   "source": [
    "l3 = l1+l2\n",
    "l3"
   ]
  },
  {
   "cell_type": "code",
   "execution_count": 14,
   "id": "fca7e04b",
   "metadata": {},
   "outputs": [
    {
     "data": {
      "text/plain": [
       "['a', 'b', 45, 1.5]"
      ]
     },
     "execution_count": 14,
     "metadata": {},
     "output_type": "execute_result"
    }
   ],
   "source": [
    "l3.remove(True)\n",
    "l3"
   ]
  },
  {
   "cell_type": "code",
   "execution_count": null,
   "id": "d361cb68",
   "metadata": {
    "scrolled": true
   },
   "outputs": [],
   "source": [
    "s1 = ['a','b','b','b','c','d','e','d','f','b']\n",
    "ele = input('Enter the element:')\n",
    "for x in range(s1.count(ele)):\n",
    "    s1.remove(ele)\n",
    "print(s1)"
   ]
  },
  {
   "cell_type": "code",
   "execution_count": null,
   "id": "681996fd",
   "metadata": {},
   "outputs": [],
   "source": [
    "s1 = ['a','b','b','c','d','e','d','f','b']\n",
    "ele = input('Enter the element:')\n",
    "for x in s1(s1.remove(ele)):\n",
    "      print(s1)\n",
    "    \n"
   ]
  },
  {
   "cell_type": "code",
   "execution_count": null,
   "id": "0de77b2f",
   "metadata": {},
   "outputs": [],
   "source": [
    "s1 = ['a','b','b','b','c','d','e','d','f','b']\n",
    "ele = input('Enter the element:')\n",
    "for x in s1:\n",
    "    if x ==ele:\n",
    "        s1.remove(x)\n",
    "print(s1)"
   ]
  },
  {
   "cell_type": "markdown",
   "id": "a9e18e17",
   "metadata": {},
   "source": [
    "#### List Comprension\n",
    "\n",
    " "
   ]
  },
  {
   "cell_type": "code",
   "execution_count": null,
   "id": "a3cd8b7a",
   "metadata": {},
   "outputs": [],
   "source": [
    "l = list(range(20))\n",
    "l\n"
   ]
  },
  {
   "cell_type": "code",
   "execution_count": null,
   "id": "ce0aa1a5",
   "metadata": {},
   "outputs": [],
   "source": [
    "even = []\n",
    "for x in range(20):\n",
    "    if x % 2 ==0:\n",
    "        even.append(x)\n",
    "        print(even)"
   ]
  },
  {
   "cell_type": "code",
   "execution_count": null,
   "id": "9eba0c48",
   "metadata": {},
   "outputs": [],
   "source": [
    "even = []\n",
    "for x in range(20):\n",
    "    if x % 2 ==0:\n",
    "        even.append(x)\n",
    "    print(even)"
   ]
  },
  {
   "cell_type": "code",
   "execution_count": null,
   "id": "667edcd4",
   "metadata": {},
   "outputs": [],
   "source": [
    "even = []\n",
    "for x in range(20):\n",
    "    if x % 2 ==0:\n",
    "        even.append(x)\n",
    "print(even)"
   ]
  },
  {
   "cell_type": "code",
   "execution_count": null,
   "id": "85fae5c1",
   "metadata": {},
   "outputs": [],
   "source": [
    "even = []\n",
    "for x in range(20):\n",
    "    if (x % 2 ==0) and (x!=0):\n",
    "        even.append(x)\n",
    "print(even)"
   ]
  },
  {
   "cell_type": "code",
   "execution_count": null,
   "id": "dc491392",
   "metadata": {},
   "outputs": [],
   "source": [
    "even =[x for x in l if (x % 2 ==0) and (x!=0)]\n",
    "even"
   ]
  },
  {
   "cell_type": "code",
   "execution_count": null,
   "id": "a3a3c041",
   "metadata": {},
   "outputs": [],
   "source": [
    "l"
   ]
  },
  {
   "cell_type": "code",
   "execution_count": null,
   "id": "d801ac5f",
   "metadata": {},
   "outputs": [],
   "source": [
    "(l**2)\n",
    "l"
   ]
  },
  {
   "cell_type": "code",
   "execution_count": null,
   "id": "7bb20f7b",
   "metadata": {},
   "outputs": [],
   "source": [
    "sq = [x **2 for x in l]\n",
    "sq"
   ]
  },
  {
   "cell_type": "code",
   "execution_count": null,
   "id": "e63872c0",
   "metadata": {},
   "outputs": [],
   "source": [
    "sq=[]"
   ]
  },
  {
   "cell_type": "code",
   "execution_count": null,
   "id": "774e0550",
   "metadata": {},
   "outputs": [],
   "source": [
    "sq =[x**2 for x in l]\n",
    "sq"
   ]
  },
  {
   "cell_type": "code",
   "execution_count": null,
   "id": "75161c2c",
   "metadata": {},
   "outputs": [],
   "source": [
    "n1 = [] \n",
    "for x in l:\n",
    "    if x %2==0:\n",
    "        n1.append(x**2)\n",
    "    else:\n",
    "        n1.append(x**3)\n",
    "print(n1)"
   ]
  },
  {
   "cell_type": "code",
   "execution_count": null,
   "id": "01028a9f",
   "metadata": {},
   "outputs": [],
   "source": [
    "n1 = [] \n",
    "for x in l:\n",
    "    if x %2==0:\n",
    "        n1.append(x)\n",
    "    else:\n",
    "        n1.append(x)\n",
    "print(n1)"
   ]
  },
  {
   "cell_type": "code",
   "execution_count": null,
   "id": "f8010c88",
   "metadata": {},
   "outputs": [],
   "source": [
    "n1 = [x**2 for x in l if x%2 ==0]\n",
    "n1"
   ]
  },
  {
   "cell_type": "code",
   "execution_count": null,
   "id": "62ef5cfa",
   "metadata": {},
   "outputs": [],
   "source": [
    "n1 = [x**2 if x%2 ==0 else x**3 for x in l ]\n",
    "n1"
   ]
  },
  {
   "cell_type": "code",
   "execution_count": null,
   "id": "d9622c38",
   "metadata": {},
   "outputs": [],
   "source": [
    "m = []\n",
    "for x in range(5):\n",
    "    m.append([])\n",
    "    for y in range(3):\n",
    "        m[x].append(y)\n",
    "print(m)"
   ]
  },
  {
   "cell_type": "code",
   "execution_count": null,
   "id": "b31c6c3f",
   "metadata": {},
   "outputs": [],
   "source": [
    "m = []\n",
    "for x in range(5):\n",
    "    m.append([])\n",
    "for y in range(3):\n",
    "        m[x].append(y)\n",
    "print(m)"
   ]
  },
  {
   "cell_type": "code",
   "execution_count": null,
   "id": "a4280cd4",
   "metadata": {},
   "outputs": [],
   "source": [
    "m = []\n",
    "for x in range(5):\n",
    "    m.append([])\n",
    "for y in range(3):\n",
    "        m.append(y)\n",
    "print(m)"
   ]
  },
  {
   "cell_type": "code",
   "execution_count": null,
   "id": "a61cc679",
   "metadata": {},
   "outputs": [],
   "source": [
    "def add():\n",
    "    a= 8\n",
    "    b= 6\n",
    "    c = a+b\n",
    "    return c\n",
    "add()"
   ]
  },
  {
   "cell_type": "code",
   "execution_count": null,
   "id": "9f62488d",
   "metadata": {},
   "outputs": [],
   "source": [
    "def add():\n",
    "    a= 8\n",
    "    b= 6\n",
    "    c = a+b\n",
    "    return c\n",
    "add()"
   ]
  },
  {
   "cell_type": "code",
   "execution_count": null,
   "id": "1adb970a",
   "metadata": {},
   "outputs": [],
   "source": [
    "def add():\n",
    "    c = a+b\n",
    "    return c\n",
    "\n",
    "a=int(input(\"Enter a:\"))\n",
    "b=int(input(\"Enter b:\"))\n",
    "add()"
   ]
  },
  {
   "cell_type": "code",
   "execution_count": null,
   "id": "d5ae8ef6",
   "metadata": {},
   "outputs": [],
   "source": [
    "def sub():\n",
    "    c = a-b\n",
    "    return c\n",
    "\n",
    "a=int(input(\"Enter a:\"))\n",
    "b=int(input(\"Enter b:\"))\n",
    "sub()"
   ]
  },
  {
   "cell_type": "code",
   "execution_count": null,
   "id": "9238ccbf",
   "metadata": {},
   "outputs": [],
   "source": [
    "def add():\n",
    "    c = a+b\n",
    "    return c\n",
    "def inp():\n",
    "a=int(input(\"Enter a:\"))\n",
    "b=int(input(\"Enter b:\"))\n",
    "add()"
   ]
  },
  {
   "cell_type": "code",
   "execution_count": null,
   "id": "dea88b3c",
   "metadata": {},
   "outputs": [],
   "source": [
    "def add(x,y):\n",
    "    c = x+y\n",
    "    return c\n",
    "\n",
    "def inp():\n",
    "    a=int(input(\"Enter a:\"))\n",
    "    b=int(input(\"Enter b:\"))\n",
    "    d = add(a,b)\n",
    "    return d\n",
    "inp()\n",
    " "
   ]
  },
  {
   "cell_type": "code",
   "execution_count": null,
   "id": "31e6ee93",
   "metadata": {},
   "outputs": [],
   "source": [
    "def add():\n",
    "    a=int(input(\"Enter a:\"))\n",
    "    b=int(input(\"Enter b:\"))\n",
    "    d = a+b\n",
    "    return d\n",
    "add()\n"
   ]
  },
  {
   "cell_type": "code",
   "execution_count": null,
   "id": "2087d20b",
   "metadata": {},
   "outputs": [],
   "source": [
    "def add(x,y):\n",
    "    c = x+y\n",
    "    return c\n",
    "\n",
    "def inp():\n",
    "    a=int(input(\"Enter a:\"))\n",
    "    b=int(input(\"Enter b:\"))\n",
    "    c = add(a,b)\n",
    "    return c\n",
    "inp()\n"
   ]
  },
  {
   "cell_type": "code",
   "execution_count": null,
   "id": "66507f73",
   "metadata": {},
   "outputs": [],
   "source": [
    "add(100,25)"
   ]
  },
  {
   "cell_type": "markdown",
   "id": "062c7f3c",
   "metadata": {},
   "source": [
    "div(25,3)"
   ]
  },
  {
   "cell_type": "code",
   "execution_count": null,
   "id": "e31f33a8",
   "metadata": {},
   "outputs": [],
   "source": [
    "def "
   ]
  },
  {
   "cell_type": "code",
   "execution_count": null,
   "id": "23459b26",
   "metadata": {},
   "outputs": [],
   "source": [
    "def userpas(user, pas):\n",
    "    d.update({user,pas})\n",
    "    return\n",
    "    \n",
    "d = {}\n",
    "for x in range(3):\n",
    "    user = input('Enter username:')\n",
    "    pas = input('Enter password:')\n",
    "    userpas(user,pas)"
   ]
  },
  {
   "cell_type": "markdown",
   "id": "26a82053",
   "metadata": {},
   "source": [
    "##Function definition using Lambda \n"
   ]
  },
  {
   "cell_type": "code",
   "execution_count": null,
   "id": "75b51871",
   "metadata": {},
   "outputs": [],
   "source": [
    "## MAp & Filter Funciton"
   ]
  },
  {
   "cell_type": "code",
   "execution_count": null,
   "id": "479e62ef",
   "metadata": {},
   "outputs": [],
   "source": [
    "l"
   ]
  },
  {
   "cell_type": "code",
   "execution_count": null,
   "id": "e753a425",
   "metadata": {},
   "outputs": [],
   "source": [
    "l = list(range(10))\n",
    "l"
   ]
  },
  {
   "cell_type": "code",
   "execution_count": null,
   "id": "1de90e5d",
   "metadata": {},
   "outputs": [],
   "source": [
    "l = list(range(10))\n",
    "sq =lambda x:x**2\n",
    "msq = list(map(sq,l))\n",
    "msq"
   ]
  },
  {
   "cell_type": "code",
   "execution_count": null,
   "id": "83dcf0eb",
   "metadata": {},
   "outputs": [],
   "source": [
    "l =[0, 1, 2, 3, 4, 5, 6, 7, 8, 9]\n",
    "\n",
    "def func(x):\n",
    "    if x%2 ==0:\n",
    "        return x**2\n",
    "    else:\n",
    "        return x**3\n",
    "msq = list(map(func,l))\n",
    "msq\n"
   ]
  },
  {
   "cell_type": "code",
   "execution_count": null,
   "id": "285ae0a3",
   "metadata": {
    "scrolled": false
   },
   "outputs": [],
   "source": [
    "ls =list('0123456789')\n",
    "ls"
   ]
  },
  {
   "cell_type": "code",
   "execution_count": null,
   "id": "5150aadd",
   "metadata": {},
   "outputs": [],
   "source": [
    "ls=[0, 1, 2, 3, 4, 5, 6, 7, 8, 9]\n",
    "list(map(int,ls))"
   ]
  },
  {
   "cell_type": "code",
   "execution_count": null,
   "id": "c4c2550a",
   "metadata": {},
   "outputs": [],
   "source": [
    "s= 'abcdefghjklmnopqrstuvwxyz'\n",
    "do = lambda x:x*2\n",
    "list(map(do,s))"
   ]
  },
  {
   "cell_type": "code",
   "execution_count": null,
   "id": "855cf6cf",
   "metadata": {},
   "outputs": [],
   "source": [
    "l =[0, 1, 2, 3, 4, 5, 6, 7, 8, 9] \n",
    "#sq =lambda x:x**2\n",
    "msq = list(map(lambda x:x**2, l))\n",
    "msq"
   ]
  },
  {
   "cell_type": "code",
   "execution_count": null,
   "id": "e8310ecc",
   "metadata": {},
   "outputs": [],
   "source": [
    "l =[0, 1, 2, 3, 4, 5, 6, 7, 8, 9]\n",
    "s1 = lambda x: True if x%2==0 else False\n",
    "\n",
    "filter(s1,l)"
   ]
  },
  {
   "cell_type": "code",
   "execution_count": null,
   "id": "502cc1fc",
   "metadata": {},
   "outputs": [],
   "source": [
    "l =[0, 1, 2, 3, 4, 5, 6, 7, 8, 9]\n",
    "s1 = lambda x: True if x%2==0 else False\n",
    "\n",
    "list(filter(s1,l))"
   ]
  },
  {
   "cell_type": "code",
   "execution_count": null,
   "id": "7fcc4773",
   "metadata": {},
   "outputs": [],
   "source": [
    "l =[0, 1, 2, 3, 4, 5, 6, 7, 8, 9]\n",
    "s1 = lambda x: x if x%2==0 else False\n",
    "\n",
    "list(filter(s1,l))"
   ]
  },
  {
   "cell_type": "markdown",
   "id": "10ff5350",
   "metadata": {},
   "source": [
    "## Modules\n",
    "   #Inbuilt Modules\n",
    "   #USer-Defined Modules"
   ]
  },
  {
   "cell_type": "code",
   "execution_count": null,
   "id": "0a3b1e56",
   "metadata": {},
   "outputs": [],
   "source": [
    "sin(90)"
   ]
  },
  {
   "cell_type": "code",
   "execution_count": null,
   "id": "efe7563f",
   "metadata": {},
   "outputs": [],
   "source": [
    "import math\n",
    "math.sin(90)"
   ]
  },
  {
   "cell_type": "code",
   "execution_count": null,
   "id": "793403b1",
   "metadata": {},
   "outputs": [],
   "source": [
    "import math\n",
    "math.sin(0)"
   ]
  },
  {
   "cell_type": "code",
   "execution_count": null,
   "id": "4b76f882",
   "metadata": {},
   "outputs": [],
   "source": [
    "import math\n",
    "math.sin(90)"
   ]
  },
  {
   "cell_type": "code",
   "execution_count": null,
   "id": "74554f33",
   "metadata": {},
   "outputs": [],
   "source": [
    "import platform\n",
    "platform.win32_ver()"
   ]
  },
  {
   "cell_type": "code",
   "execution_count": null,
   "id": "d97d7ec5",
   "metadata": {},
   "outputs": [],
   "source": [
    "platform.architecture()"
   ]
  },
  {
   "cell_type": "code",
   "execution_count": null,
   "id": "857c5729",
   "metadata": {},
   "outputs": [],
   "source": [
    "platform.node()"
   ]
  },
  {
   "cell_type": "code",
   "execution_count": null,
   "id": "de55eaea",
   "metadata": {},
   "outputs": [],
   "source": [
    "platform.machine()"
   ]
  },
  {
   "cell_type": "code",
   "execution_count": null,
   "id": "6b59060e",
   "metadata": {},
   "outputs": [],
   "source": [
    "platform.os"
   ]
  },
  {
   "cell_type": "code",
   "execution_count": null,
   "id": "29013b7a",
   "metadata": {},
   "outputs": [],
   "source": [
    "platform.processor()"
   ]
  },
  {
   "cell_type": "code",
   "execution_count": null,
   "id": "90da36ee",
   "metadata": {},
   "outputs": [],
   "source": [
    "math.pi"
   ]
  },
  {
   "cell_type": "code",
   "execution_count": null,
   "id": "8e1245dd",
   "metadata": {},
   "outputs": [],
   "source": [
    "math.sin(math.pi/2)"
   ]
  },
  {
   "cell_type": "code",
   "execution_count": null,
   "id": "2e2e790c",
   "metadata": {},
   "outputs": [],
   "source": [
    "sin(0)"
   ]
  },
  {
   "cell_type": "code",
   "execution_count": null,
   "id": "b8c1f29f",
   "metadata": {},
   "outputs": [],
   "source": [
    "from math import sin,cos\n"
   ]
  },
  {
   "cell_type": "code",
   "execution_count": null,
   "id": "2e8e772f",
   "metadata": {},
   "outputs": [],
   "source": [
    "sin(0)"
   ]
  },
  {
   "cell_type": "code",
   "execution_count": null,
   "id": "cb61c0d4",
   "metadata": {},
   "outputs": [],
   "source": [
    "cos(1)"
   ]
  },
  {
   "cell_type": "code",
   "execution_count": null,
   "id": "c23f6f97",
   "metadata": {},
   "outputs": [],
   "source": [
    "tan(0)"
   ]
  },
  {
   "cell_type": "code",
   "execution_count": null,
   "id": "100b2ad7",
   "metadata": {},
   "outputs": [],
   "source": [
    "from math import*"
   ]
  },
  {
   "cell_type": "code",
   "execution_count": null,
   "id": "81fcc16b",
   "metadata": {},
   "outputs": [],
   "source": [
    "def sqrt():\n",
    "    print('Hello')\n",
    "    return"
   ]
  },
  {
   "cell_type": "code",
   "execution_count": null,
   "id": "3af70457",
   "metadata": {},
   "outputs": [],
   "source": [
    "sqrt(4)"
   ]
  },
  {
   "cell_type": "code",
   "execution_count": null,
   "id": "409cf3bf",
   "metadata": {},
   "outputs": [],
   "source": [
    "from math import"
   ]
  },
  {
   "cell_type": "code",
   "execution_count": null,
   "id": "9b210fc0",
   "metadata": {},
   "outputs": [],
   "source": [
    "sqrt(4)"
   ]
  },
  {
   "cell_type": "markdown",
   "id": "dea1f2ea",
   "metadata": {},
   "source": [
    "##Name Collision"
   ]
  },
  {
   "cell_type": "code",
   "execution_count": null,
   "id": "36c5bdf6",
   "metadata": {},
   "outputs": [],
   "source": [
    "#as keyword\n",
    "#aliasing"
   ]
  },
  {
   "cell_type": "code",
   "execution_count": null,
   "id": "132030f5",
   "metadata": {},
   "outputs": [],
   "source": [
    "import math as ak"
   ]
  },
  {
   "cell_type": "code",
   "execution_count": null,
   "id": "cc537b46",
   "metadata": {},
   "outputs": [],
   "source": [
    "ak.sqrt(4)"
   ]
  },
  {
   "cell_type": "code",
   "execution_count": null,
   "id": "2f55f379",
   "metadata": {},
   "outputs": [],
   "source": [
    "def sqrt():\n",
    "    print('Hello')\n",
    "    return"
   ]
  },
  {
   "cell_type": "code",
   "execution_count": null,
   "id": "ab9845ae",
   "metadata": {},
   "outputs": [],
   "source": [
    "from math import sqrt as ak\n"
   ]
  },
  {
   "cell_type": "code",
   "execution_count": null,
   "id": "1c442f7f",
   "metadata": {},
   "outputs": [],
   "source": [
    "sqrt()"
   ]
  },
  {
   "cell_type": "code",
   "execution_count": null,
   "id": "6a1a9f91",
   "metadata": {},
   "outputs": [],
   "source": [
    "ak(10)"
   ]
  },
  {
   "cell_type": "code",
   "execution_count": null,
   "id": "f1ce43d0",
   "metadata": {},
   "outputs": [],
   "source": [
    "import twilio"
   ]
  },
  {
   "cell_type": "code",
   "execution_count": null,
   "id": "09fe31a7",
   "metadata": {},
   "outputs": [],
   "source": [
    "pip install sql-connector"
   ]
  },
  {
   "cell_type": "code",
   "execution_count": null,
   "id": "8aee7de0",
   "metadata": {},
   "outputs": [],
   "source": [
    "dir"
   ]
  },
  {
   "cell_type": "code",
   "execution_count": null,
   "id": "a93dc73a",
   "metadata": {},
   "outputs": [],
   "source": [
    "dir(check)"
   ]
  },
  {
   "cell_type": "code",
   "execution_count": null,
   "id": "1a0fbafc",
   "metadata": {},
   "outputs": [],
   "source": [
    "random.randint(2,10)"
   ]
  },
  {
   "cell_type": "code",
   "execution_count": null,
   "id": "123662ca",
   "metadata": {},
   "outputs": [],
   "source": [
    "random.choice(1)"
   ]
  },
  {
   "cell_type": "code",
   "execution_count": null,
   "id": "dc4b1a61",
   "metadata": {},
   "outputs": [],
   "source": [
    "x =random.randint(100000,99999)\n",
    "x"
   ]
  },
  {
   "cell_type": "code",
   "execution_count": null,
   "id": "8aa26844",
   "metadata": {},
   "outputs": [],
   "source": [
    "random\n",
    "math\n",
    "os\n",
    " ==, "
   ]
  },
  {
   "cell_type": "code",
   "execution_count": null,
   "id": "a3ac8a6a",
   "metadata": {},
   "outputs": [],
   "source": [
    "cash = 10"
   ]
  },
  {
   "cell_type": "code",
   "execution_count": null,
   "id": "75a3f810",
   "metadata": {},
   "outputs": [],
   "source": [
    "cash\n"
   ]
  },
  {
   "cell_type": "code",
   "execution_count": null,
   "id": "9f9d2cd6",
   "metadata": {},
   "outputs": [],
   "source": [
    "total =10\n",
    "Total=999"
   ]
  },
  {
   "cell_type": "code",
   "execution_count": null,
   "id": "ffda2e99",
   "metadata": {},
   "outputs": [],
   "source": [
    "total"
   ]
  },
  {
   "cell_type": "code",
   "execution_count": null,
   "id": "840a50af",
   "metadata": {},
   "outputs": [],
   "source": [
    "Total"
   ]
  },
  {
   "cell_type": "code",
   "execution_count": null,
   "id": "b049c074",
   "metadata": {},
   "outputs": [],
   "source": [
    "List1=['hello']\n",
    "List2=[]\n",
    "For i in list1:\n",
    "      List2. Append(i[::-1]\n",
    "Print(list2)\n",
    "                    "
   ]
  },
  {
   "cell_type": "code",
   "execution_count": null,
   "id": "f617def5",
   "metadata": {},
   "outputs": [],
   "source": [
    "keyword.kwlist"
   ]
  },
  {
   "cell_type": "code",
   "execution_count": null,
   "id": "9234fefe",
   "metadata": {},
   "outputs": [],
   "source": [
    "import keyword"
   ]
  },
  {
   "cell_type": "code",
   "execution_count": null,
   "id": "c2ef7da0",
   "metadata": {},
   "outputs": [],
   "source": [
    "keyword.kwlist"
   ]
  },
  {
   "cell_type": "code",
   "execution_count": null,
   "id": "278aefa2",
   "metadata": {},
   "outputs": [],
   "source": [
    "type(True)"
   ]
  },
  {
   "cell_type": "code",
   "execution_count": null,
   "id": "a853a4f8",
   "metadata": {},
   "outputs": [],
   "source": [
    "id(type)"
   ]
  },
  {
   "cell_type": "code",
   "execution_count": null,
   "id": "b2f1da8f",
   "metadata": {},
   "outputs": [],
   "source": [
    "f=1.2E3\n",
    "f"
   ]
  },
  {
   "cell_type": "code",
   "execution_count": null,
   "id": "104fa561",
   "metadata": {},
   "outputs": [],
   "source": [
    "a = 0B11+11j\n",
    "a"
   ]
  },
  {
   "cell_type": "code",
   "execution_count": null,
   "id": "d3d0f644",
   "metadata": {},
   "outputs": [],
   "source": [
    "a=  3+0B11j"
   ]
  },
  {
   "cell_type": "code",
   "execution_count": null,
   "id": "1b13fe56",
   "metadata": {},
   "outputs": [],
   "source": [
    "a ='''this is' character'''\n",
    "a"
   ]
  },
  {
   "cell_type": "code",
   "execution_count": null,
   "id": "0fd1e900",
   "metadata": {},
   "outputs": [],
   "source": [
    "a ='this is' character'"
   ]
  },
  {
   "cell_type": "code",
   "execution_count": null,
   "id": "f0293f78",
   "metadata": {},
   "outputs": [],
   "source": [
    "a=int(123.25)\n",
    "type(a)\n",
    "a"
   ]
  },
  {
   "cell_type": "code",
   "execution_count": null,
   "id": "411627cd",
   "metadata": {},
   "outputs": [],
   "source": [
    "a =float(10+5j)\n",
    "a"
   ]
  },
  {
   "cell_type": "code",
   "execution_count": null,
   "id": "658987aa",
   "metadata": {},
   "outputs": [],
   "source": [
    "b=float('10')\n",
    "b"
   ]
  },
  {
   "cell_type": "code",
   "execution_count": null,
   "id": "a0687a0a",
   "metadata": {},
   "outputs": [],
   "source": [
    "type(b)"
   ]
  },
  {
   "cell_type": "code",
   "execution_count": null,
   "id": "c48543e3",
   "metadata": {},
   "outputs": [],
   "source": [
    "complex(10,-2)"
   ]
  },
  {
   "cell_type": "code",
   "execution_count": null,
   "id": "3e24bffb",
   "metadata": {},
   "outputs": [],
   "source": [
    "complex(True,False)"
   ]
  },
  {
   "cell_type": "code",
   "execution_count": null,
   "id": "9b728416",
   "metadata": {},
   "outputs": [],
   "source": [
    "str(True)"
   ]
  },
  {
   "cell_type": "code",
   "execution_count": null,
   "id": "2183027c",
   "metadata": {},
   "outputs": [],
   "source": [
    "x = [10,20,30,40]\n",
    "b = bytes(x)\n",
    "type(b)\n",
    "print(b[0])\n",
    "print(x[0])\n",
    "for i in b:\n",
    "    print(i)\n",
    "    "
   ]
  },
  {
   "cell_type": "code",
   "execution_count": null,
   "id": "ce323864",
   "metadata": {},
   "outputs": [],
   "source": [
    "l =[10,20,3]\n",
    "l.append('achyuth')\n",
    "l"
   ]
  },
  {
   "cell_type": "code",
   "execution_count": null,
   "id": "a31ef1c4",
   "metadata": {},
   "outputs": [],
   "source": [
    "l=(10,20,30)\n",
    "l1=l.remove(50)"
   ]
  },
  {
   "cell_type": "code",
   "execution_count": null,
   "id": "c9d6c434",
   "metadata": {},
   "outputs": [],
   "source": [
    "range(10)"
   ]
  },
  {
   "cell_type": "code",
   "execution_count": null,
   "id": "ec57c8af",
   "metadata": {},
   "outputs": [],
   "source": [
    "r =range(10,20,2)\n",
    "for i in r:\n",
    "    print(i)"
   ]
  },
  {
   "cell_type": "code",
   "execution_count": null,
   "id": "01342056",
   "metadata": {},
   "outputs": [],
   "source": [
    "r(0)"
   ]
  },
  {
   "cell_type": "code",
   "execution_count": null,
   "id": "2e331af7",
   "metadata": {},
   "outputs": [],
   "source": [
    "r[6]"
   ]
  },
  {
   "cell_type": "code",
   "execution_count": null,
   "id": "06fc5ce0",
   "metadata": {},
   "outputs": [],
   "source": [
    "r[0]"
   ]
  },
  {
   "cell_type": "code",
   "execution_count": null,
   "id": "886121e5",
   "metadata": {},
   "outputs": [],
   "source": [
    "l = list(range(10))\n",
    "l"
   ]
  },
  {
   "cell_type": "code",
   "execution_count": null,
   "id": "c3a7ce36",
   "metadata": {},
   "outputs": [],
   "source": [
    "l[3]"
   ]
  },
  {
   "cell_type": "code",
   "execution_count": null,
   "id": "c20f1ff4",
   "metadata": {},
   "outputs": [],
   "source": [
    "tuple(l)"
   ]
  },
  {
   "cell_type": "code",
   "execution_count": null,
   "id": "cc892897",
   "metadata": {},
   "outputs": [],
   "source": []
  },
  {
   "cell_type": "code",
   "execution_count": null,
   "id": "f651059a",
   "metadata": {},
   "outputs": [],
   "source": [
    "s ={10,20,30,40,50}\n",
    "s"
   ]
  },
  {
   "cell_type": "code",
   "execution_count": null,
   "id": "320e91a8",
   "metadata": {},
   "outputs": [],
   "source": [
    "s[2]"
   ]
  },
  {
   "cell_type": "code",
   "execution_count": null,
   "id": "7fae1b48",
   "metadata": {},
   "outputs": [],
   "source": [
    "s={60,70}\n",
    "s"
   ]
  },
  {
   "cell_type": "code",
   "execution_count": null,
   "id": "38911582",
   "metadata": {},
   "outputs": [],
   "source": [
    "s.add(80)\n",
    "s"
   ]
  },
  {
   "cell_type": "code",
   "execution_count": null,
   "id": "65b80dbd",
   "metadata": {},
   "outputs": [],
   "source": [
    "s.remove(70)\n",
    "s"
   ]
  },
  {
   "cell_type": "code",
   "execution_count": null,
   "id": "94955da6",
   "metadata": {},
   "outputs": [],
   "source": [
    "s ={10,20,30}\n",
    "fs = frozenset(s)\n",
    "type(fs)"
   ]
  },
  {
   "cell_type": "code",
   "execution_count": null,
   "id": "f227efe9",
   "metadata": {},
   "outputs": [],
   "source": [
    "d={1:'Achyuth',2:'Rajesh'}\n",
    "d"
   ]
  },
  {
   "cell_type": "code",
   "execution_count": null,
   "id": "d8cc7ca2",
   "metadata": {},
   "outputs": [],
   "source": [
    "d[1]:'kumar'\n",
    "d    "
   ]
  },
  {
   "cell_type": "code",
   "execution_count": null,
   "id": "b7e76bae",
   "metadata": {},
   "outputs": [],
   "source": [
    "d[3]='LK'\n",
    "d"
   ]
  },
  {
   "cell_type": "code",
   "execution_count": null,
   "id": "61266115",
   "metadata": {},
   "outputs": [],
   "source": [
    "s='Achyuth\\nkumar'\n",
    "print(s)"
   ]
  },
  {
   "cell_type": "code",
   "execution_count": null,
   "id": "f5f34d36",
   "metadata": {},
   "outputs": [],
   "source": [
    "s =''this is'' symbol''\n",
    "s"
   ]
  },
  {
   "cell_type": "code",
   "execution_count": null,
   "id": "31adbd14",
   "metadata": {},
   "outputs": [],
   "source": [
    "s='Achyuth\\kumar'\n",
    "print(s)"
   ]
  },
  {
   "cell_type": "code",
   "execution_count": null,
   "id": "9e5ce1e7",
   "metadata": {},
   "outputs": [],
   "source": [
    "a =10\n",
    "b =25\n",
    "a+b\n",
    "a-b\n",
    "a*b\n",
    "a/b\n",
    "a**b\n",
    "a%b\n",
    "a//b"
   ]
  },
  {
   "cell_type": "code",
   "execution_count": null,
   "id": "ed217c94",
   "metadata": {},
   "outputs": [],
   "source": [
    "a//b\n"
   ]
  },
  {
   "cell_type": "code",
   "execution_count": null,
   "id": "7b6297dd",
   "metadata": {},
   "outputs": [],
   "source": [
    "'2'*5"
   ]
  },
  {
   "cell_type": "code",
   "execution_count": null,
   "id": "8da791e6",
   "metadata": {},
   "outputs": [],
   "source": [
    "a/0"
   ]
  },
  {
   "cell_type": "code",
   "execution_count": null,
   "id": "322d8013",
   "metadata": {},
   "outputs": [],
   "source": [
    "a%0"
   ]
  },
  {
   "cell_type": "code",
   "execution_count": null,
   "id": "ebe1f750",
   "metadata": {},
   "outputs": [],
   "source": [
    "x =5\n",
    "y=0\n",
    "x~y"
   ]
  },
  {
   "cell_type": "code",
   "execution_count": null,
   "id": "ce7fd8ae",
   "metadata": {},
   "outputs": [],
   "source": [
    "print(10<<3)"
   ]
  },
  {
   "cell_type": "code",
   "execution_count": null,
   "id": "411042ed",
   "metadata": {},
   "outputs": [],
   "source": [
    "x+=10\n",
    "x"
   ]
  },
  {
   "cell_type": "code",
   "execution_count": null,
   "id": "f407607d",
   "metadata": {},
   "outputs": [],
   "source": [
    " x*=5    \n",
    "x"
   ]
  },
  {
   "cell_type": "code",
   "execution_count": null,
   "id": "59b21548",
   "metadata": {},
   "outputs": [],
   "source": [
    "\n",
    "z&=10\n",
    "print(z)"
   ]
  },
  {
   "cell_type": "code",
   "execution_count": null,
   "id": "10c84b3b",
   "metadata": {},
   "outputs": [],
   "source": [
    "10<<20"
   ]
  },
  {
   "cell_type": "code",
   "execution_count": null,
   "id": "51851c28",
   "metadata": {},
   "outputs": [],
   "source": [
    "10>>20"
   ]
  },
  {
   "cell_type": "code",
   "execution_count": null,
   "id": "8a217b91",
   "metadata": {},
   "outputs": [],
   "source": [
    "a =50\n",
    "b=30\n",
    "if a>b:\n",
    "    print('a is greater')\n",
    "else:\n",
    "    print('a is smaller')\n"
   ]
  },
  {
   "cell_type": "code",
   "execution_count": null,
   "id": "6e2fd238",
   "metadata": {},
   "outputs": [],
   "source": [
    "a = int(input('Enter a num1:'))\n",
    "b = int(input('Enter a num2:'))\n",
    "print('Small number is:',min(a,b))"
   ]
  },
  {
   "cell_type": "code",
   "execution_count": null,
   "id": "3d4bf28e",
   "metadata": {},
   "outputs": [],
   "source": [
    "a = int(input('Enter a num1:'))\n",
    "b = int(input('Enter a num2:'))\n",
    "min = a if a<b else b\n",
    "print('Minimum value:',min)"
   ]
  },
  {
   "cell_type": "code",
   "execution_count": null,
   "id": "80e9ea10",
   "metadata": {},
   "outputs": [],
   "source": [
    "a = int(input('Enter a num1:'))\n",
    "b = int(input('Enter a num2:'))\n",
    "c = int(input('Enter a num3:'))\n",
    "min = a if a<b and a<c else b if b<c else c\n",
    "print('Minimum value:',min)\n"
   ]
  },
  {
   "cell_type": "code",
   "execution_count": null,
   "id": "9b57c96b",
   "metadata": {},
   "outputs": [],
   "source": [
    "a = int(input('Enter a num1:'))\n",
    "b = int(input('Enter a num2:'))\n",
    "c = int(input('Enter a num3:'))\n",
    "print('Big number is:',max(a,b,c))"
   ]
  },
  {
   "cell_type": "code",
   "execution_count": null,
   "id": "c9eadacd",
   "metadata": {},
   "outputs": [],
   "source": [
    "a= 10\n",
    "b=10\n",
    "print(a is b)"
   ]
  },
  {
   "cell_type": "code",
   "execution_count": null,
   "id": "513ea04e",
   "metadata": {},
   "outputs": [],
   "source": [
    "a ='achyuth'\n",
    "b = 'achyuth'\n",
    "print(id(a))\n",
    "print(id(b))\n",
    "print(a==b)"
   ]
  },
  {
   "cell_type": "code",
   "execution_count": null,
   "id": "eb83f7bc",
   "metadata": {},
   "outputs": [],
   "source": [
    "L='Achyuth Kumar'\n",
    "print('A' in L)\n",
    "print('Z' in L)     \n"
   ]
  },
  {
   "cell_type": "code",
   "execution_count": null,
   "id": "4b260ff1",
   "metadata": {},
   "outputs": [],
   "source": [
    "print(math.sqrt(130))"
   ]
  },
  {
   "cell_type": "code",
   "execution_count": null,
   "id": "965db5a5",
   "metadata": {},
   "outputs": [],
   "source": [
    "from math import sqrt,pi\n",
    "print(sqrt(25000))\n",
    "print(pi)"
   ]
  },
  {
   "cell_type": "code",
   "execution_count": null,
   "id": "1c1ba1ae",
   "metadata": {},
   "outputs": [],
   "source": [
    "import math\n",
    "r =float(input(\"Enter radius of a circle:\"))\n",
    "A =pi*r**2\n",
    "print('Arera of a circle is:',A)"
   ]
  },
  {
   "cell_type": "code",
   "execution_count": null,
   "id": "90915771",
   "metadata": {},
   "outputs": [],
   "source": [
    "x =raw_input('Hai Achyuth')\n",
    "x"
   ]
  },
  {
   "cell_type": "code",
   "execution_count": null,
   "id": "8f2a6572",
   "metadata": {},
   "outputs": [],
   "source": [
    "x =input('Hai Achyuth')\n",
    "x"
   ]
  },
  {
   "cell_type": "code",
   "execution_count": null,
   "id": "7203e847",
   "metadata": {},
   "outputs": [],
   "source": [
    "a = int(input('Enter a num1:'))\n",
    "b = int(input('Enter a num2:'))\n",
    "c =a+b\n",
    "print('Addition of a & b is:',c)"
   ]
  },
  {
   "cell_type": "code",
   "execution_count": null,
   "id": "b8adf039",
   "metadata": {},
   "outputs": [],
   "source": [
    "a = input('Enter a num1:')\n",
    "b = input('Enter a num2:')\n",
    "c =int(a)\n",
    "d = int(b)\n",
    "e = c+d\n",
    "print('Addition of a & b is:',e)"
   ]
  },
  {
   "cell_type": "code",
   "execution_count": null,
   "id": "96d0898e",
   "metadata": {},
   "outputs": [],
   "source": [
    "a,b =[int(x) for x in input('Enter 2 numbers:').append()]\n",
    "print('product is :',a*b)"
   ]
  },
  {
   "cell_type": "code",
   "execution_count": null,
   "id": "07b57c2c",
   "metadata": {},
   "outputs": [],
   "source": [
    "a,b,c =[float(x) for x in input('Enter 3 numbers:').split('.')]\n",
    "print('The sum of numbers is:',a+b+c)"
   ]
  },
  {
   "cell_type": "code",
   "execution_count": null,
   "id": "e987d8c1",
   "metadata": {},
   "outputs": [],
   "source": [
    "x =eval('10*20')\n",
    "print(x)"
   ]
  },
  {
   "cell_type": "code",
   "execution_count": null,
   "id": "651140d9",
   "metadata": {},
   "outputs": [],
   "source": [
    "x=eval(input('Enter expression'))\n",
    "print(x)"
   ]
  },
  {
   "cell_type": "code",
   "execution_count": null,
   "id": "8ac82154",
   "metadata": {},
   "outputs": [],
   "source": [
    "a =eval(input('Enter details:'))\n",
    "print(type(a))\n",
    "print(a)"
   ]
  },
  {
   "cell_type": "code",
   "execution_count": null,
   "id": "ab7c1136",
   "metadata": {},
   "outputs": [],
   "source": [
    "import argv\n",
    "print(type(argv))"
   ]
  },
  {
   "cell_type": "code",
   "execution_count": null,
   "id": "bce1306f",
   "metadata": {},
   "outputs": [],
   "source": [
    "from sys import argv\n",
    "print('The number of command line arguments:', len(argv))\n",
    "print('The list of command line arguments:',argv)\n",
    "print('command Line arguments one by one:')\n",
    "for x in argv:\n",
    "    print(x)\n"
   ]
  },
  {
   "cell_type": "code",
   "execution_count": null,
   "id": "ae79d2ef",
   "metadata": {},
   "outputs": [],
   "source": [
    "from sys import argv\n",
    "sum =0\n",
    "args = argv[1:]\n",
    "for x in args:\n",
    "    n = int(x)\n",
    "    sum +=n\n",
    "print('sum:',sum)"
   ]
  },
  {
   "cell_type": "code",
   "execution_count": null,
   "id": "211a5026",
   "metadata": {},
   "outputs": [],
   "source": [
    "print()"
   ]
  },
  {
   "cell_type": "code",
   "execution_count": null,
   "id": "dec1cd8a",
   "metadata": {},
   "outputs": [],
   "source": [
    "print(10*10)"
   ]
  },
  {
   "cell_type": "code",
   "execution_count": null,
   "id": "98886797",
   "metadata": {},
   "outputs": [],
   "source": [
    "print('hello world')\n",
    "print('hello '+'world')\n",
    "print('hello', 'world')"
   ]
  },
  {
   "cell_type": "code",
   "execution_count": null,
   "id": "f04f4ae3",
   "metadata": {},
   "outputs": [],
   "source": [
    "a,b,c =10,20,30\n",
    "print('Values are= ',a,b,c,sep=':')"
   ]
  },
  {
   "cell_type": "code",
   "execution_count": null,
   "id": "d89eb90f",
   "metadata": {},
   "outputs": [],
   "source": [
    "print('hello',end=' ')\n",
    "print('world')"
   ]
  },
  {
   "cell_type": "code",
   "execution_count": null,
   "id": "ce4f3d10",
   "metadata": {},
   "outputs": [],
   "source": [
    "a='Lingam'\n",
    "b='KSRM'\n",
    "print('Your surname is',a,'Achyuth Kumar')\n",
    "print('Achyuth kumar studied in',b, 'college')"
   ]
  },
  {
   "cell_type": "code",
   "execution_count": null,
   "id": "45392723",
   "metadata": {},
   "outputs": [],
   "source": [
    "a=10\n",
    "b=20\n",
    "c=30\n",
    "print('a value is %i' %a)\n",
    "print('b value is %d and c value is %d' %(b,c))"
   ]
  },
  {
   "cell_type": "code",
   "execution_count": null,
   "id": "c4863258",
   "metadata": {},
   "outputs": [],
   "source": [
    "print(%a)\n",
    "print(%(b,c))"
   ]
  },
  {
   "cell_type": "code",
   "execution_count": null,
   "id": "2a59dacb",
   "metadata": {},
   "outputs": [],
   "source": [
    "a = 'achyuth'\n",
    "list =[10,20,30]\n",
    "print('hello %s.... The list of items are %s' %(a,list))"
   ]
  },
  {
   "cell_type": "code",
   "execution_count": null,
   "id": "061a48dc",
   "metadata": {},
   "outputs": [],
   "source": [
    "name ='achyuth'\n",
    "salary =100000\n",
    "brother ='rajesh'\n",
    "print(\"Hello {0} your salary is {1} and your brother {2} is waiting\".format(name,salary,brother))"
   ]
  },
  {
   "cell_type": "code",
   "execution_count": null,
   "id": "bc844b09",
   "metadata": {},
   "outputs": [],
   "source": [
    "name ='achyuth'\n",
    "salary =100000\n",
    "brother ='rajesh'\n",
    "print('Hello', name, 'your salary is', salary, 'and your brother', brother, 'is waiting')"
   ]
  },
  {
   "cell_type": "code",
   "execution_count": null,
   "id": "13240d98",
   "metadata": {},
   "outputs": [],
   "source": [
    "name =input('Enter name:')\n",
    "if name =='Achyuth':\n",
    "    print('Hello Achyuth, Good Morning')\n",
    "print('how are you')\n"
   ]
  },
  {
   "cell_type": "code",
   "execution_count": null,
   "id": "b30a35c2",
   "metadata": {},
   "outputs": [],
   "source": [
    "name =input('Enter name:')\n",
    "if name =='Achyuth':\n",
    "    print('Hello Achyuth, Good Morning')\n",
    "else:\n",
    "    print('Hello Guest')\n",
    "print('how are you')"
   ]
  },
  {
   "cell_type": "code",
   "execution_count": null,
   "id": "f6aa6913",
   "metadata": {},
   "outputs": [],
   "source": [
    "theatre =input('Enter theatre name:')\n",
    "if theatre =='pratap':\n",
    "    print('Sound system is good')\n",
    "elif theatre=='sangeeth':\n",
    "    print('4K quality')\n",
    "elif theatre=='Ramnath':\n",
    "    print('Average theatre')\n",
    "else:\n",
    "    print('Waste watching movie in',theatre,'theatre')"
   ]
  },
  {
   "cell_type": "code",
   "execution_count": null,
   "id": "c3bc18d4",
   "metadata": {},
   "outputs": [],
   "source": [
    "num =int(input('Enter the number:'))\n",
    "if num%2==0:\n",
    "    print(num, 'is even number')\n",
    "else:\n",
    "    print(num, 'is odd number')\n",
    "            "
   ]
  },
  {
   "cell_type": "code",
   "execution_count": null,
   "id": "e1078dda",
   "metadata": {},
   "outputs": [],
   "source": [
    "num =int(input('Enter the number:'))\n",
    "if num>=1 and num<=100:\n",
    "    print('The number',num,'is in between1-100')\n",
    "else:\n",
    "    print('The number',num,'is not in between1-100')\n",
    "         "
   ]
  },
  {
   "cell_type": "code",
   "execution_count": null,
   "id": "ef3942b4",
   "metadata": {},
   "outputs": [],
   "source": [
    "l =\"achyuth\"\n",
    "for x in l:\n",
    "    print(x)\n"
   ]
  },
  {
   "cell_type": "code",
   "execution_count": null,
   "id": "2fa7875d",
   "metadata": {},
   "outputs": [],
   "source": [
    "s = input('Enter some string:')\n",
    "i =0\n",
    "for x in s:\n",
    "    print('index at',i,'is',x)\n",
    "    i=i+1"
   ]
  },
  {
   "cell_type": "code",
   "execution_count": null,
   "id": "2d362e9d",
   "metadata": {},
   "outputs": [],
   "source": [
    "print(10*'hello ')"
   ]
  },
  {
   "cell_type": "code",
   "execution_count": null,
   "id": "a1734532",
   "metadata": {},
   "outputs": [],
   "source": [
    "for x in range(10):\n",
    "    print('hello')"
   ]
  },
  {
   "cell_type": "code",
   "execution_count": null,
   "id": "47fbac11",
   "metadata": {},
   "outputs": [],
   "source": [
    "for i in range(10):\n",
    "    print(i)"
   ]
  },
  {
   "cell_type": "code",
   "execution_count": null,
   "id": "747c96ab",
   "metadata": {},
   "outputs": [],
   "source": [
    "for i in range(20):\n",
    "    if i%2 !=0:\n",
    "        print(i)"
   ]
  },
  {
   "cell_type": "code",
   "execution_count": null,
   "id": "7b8f1698",
   "metadata": {},
   "outputs": [],
   "source": [
    "for i in range(10,0,-1):\n",
    "    print(i)\n",
    "    "
   ]
  },
  {
   "cell_type": "code",
   "execution_count": null,
   "id": "d781748f",
   "metadata": {},
   "outputs": [],
   "source": [
    "list =[10,30,50]\n",
    "sum =0;\n",
    "for x in range(0,len(list1)):\n",
    "        sum =sum+list1[x]\n",
    "print('The sum is',sum)\n"
   ]
  },
  {
   "cell_type": "code",
   "execution_count": null,
   "id": "266894ca",
   "metadata": {},
   "outputs": [],
   "source": [
    "n = int(input('Enter number:'))\n",
    "sum =0\n",
    "i=1\n",
    "while i<=n:\n",
    "    sum =sum+i\n",
    "    i=i+1\n",
    "print('The sum of first',n,'number is:',sum)"
   ]
  },
  {
   "cell_type": "code",
   "execution_count": null,
   "id": "ce1f4db5",
   "metadata": {},
   "outputs": [],
   "source": [
    "i = 1\n",
    "while(i<=20):\n",
    "    print(i)\n",
    "    i += 1"
   ]
  },
  {
   "cell_type": "code",
   "execution_count": null,
   "id": "21723b75",
   "metadata": {},
   "outputs": [],
   "source": [
    "name =input('Enter name:')\n",
    "while name!='Achyuth':\n",
    "    name =input('Enter name:')\n",
    "print('Thanks for confirmation')\n"
   ]
  },
  {
   "cell_type": "code",
   "execution_count": null,
   "id": "aaf09b39",
   "metadata": {},
   "outputs": [],
   "source": [
    "n =int(input('Enter number:'))\n",
    "sum =0\n",
    "i=1\n",
    "while i<=n:\n",
    "    sum =sum+i\n",
    "    i=i+1\n",
    "print('The sum of first',n,'number is:',sum)\n",
    "    "
   ]
  },
  {
   "cell_type": "code",
   "execution_count": 2,
   "id": "c17b5365",
   "metadata": {},
   "outputs": [
    {
     "name": "stdout",
     "output_type": "stream",
     "text": [
      "i= 0 j= 0\n",
      "i= 0 j= 1\n",
      "i= 0 j= 2\n",
      "i= 0 j= 3\n",
      "i= 1 j= 0\n",
      "i= 1 j= 1\n",
      "i= 1 j= 2\n",
      "i= 1 j= 3\n",
      "i= 2 j= 0\n",
      "i= 2 j= 1\n",
      "i= 2 j= 2\n",
      "i= 2 j= 3\n",
      "i= 3 j= 0\n",
      "i= 3 j= 1\n",
      "i= 3 j= 2\n",
      "i= 3 j= 3\n"
     ]
    }
   ],
   "source": [
    "for i in range(4):\n",
    "    for j in range(4):\n",
    "        print('i=',i,'j=',j)\n",
    "    "
   ]
  },
  {
   "cell_type": "code",
   "execution_count": 3,
   "id": "3b06b63c",
   "metadata": {},
   "outputs": [
    {
     "name": "stdout",
     "output_type": "stream",
     "text": [
      "0 0\n",
      "0 1\n",
      "0 2\n",
      "0 3\n",
      "1 0\n",
      "1 1\n",
      "1 2\n",
      "1 3\n",
      "2 0\n",
      "2 1\n",
      "2 2\n",
      "2 3\n",
      "3 0\n",
      "3 1\n",
      "3 2\n",
      "3 3\n"
     ]
    }
   ],
   "source": [
    "for i in range(4):\n",
    "    for j in range(4):\n",
    "        print(i,j)"
   ]
  },
  {
   "cell_type": "code",
   "execution_count": 5,
   "id": "a40d5298",
   "metadata": {},
   "outputs": [
    {
     "name": "stdout",
     "output_type": "stream",
     "text": [
      "Enter number of rows:5\n",
      "*\n",
      "**\n",
      "***\n",
      "****\n",
      "*****\n"
     ]
    }
   ],
   "source": [
    "n = int(input('Enter number of rows:'))\n",
    "for i in range(1,n+1):\n",
    "    print('*'*i)"
   ]
  },
  {
   "cell_type": "code",
   "execution_count": 9,
   "id": "cb4a8f2d",
   "metadata": {},
   "outputs": [
    {
     "name": "stdout",
     "output_type": "stream",
     "text": [
      "\n",
      "1\n",
      "11\n",
      "111\n",
      "1111\n",
      "11111\n",
      "111111\n"
     ]
    }
   ],
   "source": [
    "\n",
    "for i in range(7):\n",
    "    print('1'*i)"
   ]
  },
  {
   "cell_type": "code",
   "execution_count": 21,
   "id": "9b1c1164",
   "metadata": {},
   "outputs": [
    {
     "name": "stdout",
     "output_type": "stream",
     "text": [
      "Enter number of rows:6\n",
      "     1\n",
      "    11\n",
      "   111\n",
      "  1111\n",
      " 11111\n",
      "111111\n"
     ]
    }
   ],
   "source": [
    "n = int(input('Enter number of rows:'))\n",
    "for i in range(1,n+1):\n",
    "    print(' '*(n-i),end='')\n",
    "    print('1'*i)"
   ]
  },
  {
   "cell_type": "code",
   "execution_count": 44,
   "id": "e370b6f3",
   "metadata": {},
   "outputs": [
    {
     "name": "stdout",
     "output_type": "stream",
     "text": [
      "0\n",
      "1\n",
      "2\n",
      "3\n",
      "Enough processing\n",
      "4\n"
     ]
    }
   ],
   "source": [
    "for i in range(5):\n",
    "    if i==4:\n",
    "        print('Enough processing')\n",
    "    print(i)"
   ]
  },
  {
   "cell_type": "code",
   "execution_count": 25,
   "id": "1ed81ab7",
   "metadata": {},
   "outputs": [
    {
     "name": "stdout",
     "output_type": "stream",
     "text": [
      "0\n",
      "1\n",
      "2\n",
      "3\n",
      "Enough processing\n"
     ]
    }
   ],
   "source": [
    "for i in range(5):\n",
    "    if i==4:\n",
    "        print('Enough processing')\n",
    "        break\n",
    "    print(i)\n"
   ]
  },
  {
   "cell_type": "code",
   "execution_count": 31,
   "id": "8c347583",
   "metadata": {},
   "outputs": [
    {
     "name": "stdout",
     "output_type": "stream",
     "text": [
      "4\n",
      "4\n",
      "4\n",
      "Replace the items price greater than 50\n"
     ]
    }
   ],
   "source": [
    "cart=[10,20,30,500,60]\n",
    "for item in cart:\n",
    "    if item>50:\n",
    "        print('Replace the items price greater than 50')\n",
    "        break\n",
    "    print(i)"
   ]
  },
  {
   "cell_type": "code",
   "execution_count": 39,
   "id": "d65e94bc",
   "metadata": {},
   "outputs": [
    {
     "name": "stdout",
     "output_type": "stream",
     "text": [
      "Replace the items price greater than 50\n"
     ]
    }
   ],
   "source": [
    "cart=[200,20,30,500,60]\n",
    "for item in cart:\n",
    "    if item>50:\n",
    "        print('Replace the items price greater than 50')\n",
    "        break\n",
    "    print(item)"
   ]
  },
  {
   "cell_type": "code",
   "execution_count": 37,
   "id": "6e0ab809",
   "metadata": {},
   "outputs": [
    {
     "name": "stdout",
     "output_type": "stream",
     "text": [
      "0\n",
      "2\n",
      "4\n",
      "6\n",
      "8\n"
     ]
    }
   ],
   "source": [
    "for i in range(10):\n",
    "    if i%2!=0:\n",
    "        continue\n",
    "    print(i)"
   ]
  },
  {
   "cell_type": "code",
   "execution_count": 42,
   "id": "14785aa5",
   "metadata": {},
   "outputs": [
    {
     "name": "stdout",
     "output_type": "stream",
     "text": [
      "Replace the items price greater than 50\n",
      "20\n",
      "30\n",
      "Replace the items price greater than 50\n",
      "Replace the items price greater than 50\n"
     ]
    }
   ],
   "source": [
    "cart=[200,20,30,500,60]\n",
    "for item in cart:\n",
    "    if item>50:\n",
    "        print('Replace the items price greater than 50')\n",
    "        continue\n",
    "    print(item)"
   ]
  },
  {
   "cell_type": "code",
   "execution_count": 43,
   "id": "281d7843",
   "metadata": {},
   "outputs": [
    {
     "name": "stdout",
     "output_type": "stream",
     "text": [
      "Replace the items price greater than 50\n",
      "200\n",
      "20\n",
      "30\n",
      "Replace the items price greater than 50\n",
      "500\n",
      "Replace the items price greater than 50\n",
      "60\n"
     ]
    }
   ],
   "source": [
    "cart=[200,20,30,500,60]\n",
    "for item in cart:\n",
    "    if item>50:\n",
    "        print('Replace the items price greater than 50')\n",
    "    print(item)"
   ]
  },
  {
   "cell_type": "code",
   "execution_count": 46,
   "id": "649aed70",
   "metadata": {},
   "outputs": [
    {
     "name": "stdout",
     "output_type": "stream",
     "text": [
      "2.0\n",
      "1.0\n",
      "Cant divide\n",
      "0.5\n",
      "Cant divide\n"
     ]
    }
   ],
   "source": [
    "num =[10,20,0,40,0]\n",
    "for n in num:\n",
    "    if n==0:\n",
    "        print('Cant divide')\n",
    "        continue\n",
    "    print(20/n)\n",
    "        "
   ]
  },
  {
   "cell_type": "code",
   "execution_count": 47,
   "id": "405f9298",
   "metadata": {},
   "outputs": [
    {
     "name": "stdout",
     "output_type": "stream",
     "text": [
      "20/10=2.0\n",
      "20/20=1.0\n",
      "Cant divide\n",
      "20/40=0.5\n",
      "Cant divide\n"
     ]
    }
   ],
   "source": [
    "num =[10,20,0,40,0]\n",
    "for n in num:\n",
    "    if n==0:\n",
    "        print('Cant divide')\n",
    "        continue\n",
    "    print('20/{}={}'.format(n,20/n))"
   ]
  },
  {
   "cell_type": "code",
   "execution_count": 52,
   "id": "2d6322b4",
   "metadata": {},
   "outputs": [
    {
     "name": "stdout",
     "output_type": "stream",
     "text": [
      "20/10=2.0\n",
      "20/20=1.0\n",
      "Cant divide\n"
     ]
    },
    {
     "ename": "ZeroDivisionError",
     "evalue": "division by zero",
     "output_type": "error",
     "traceback": [
      "\u001b[1;31m---------------------------------------------------------------------------\u001b[0m",
      "\u001b[1;31mZeroDivisionError\u001b[0m                         Traceback (most recent call last)",
      "\u001b[1;32m~\\AppData\\Local\\Temp\\ipykernel_14480\\1428939905.py\u001b[0m in \u001b[0;36m<module>\u001b[1;34m\u001b[0m\n\u001b[0;32m      3\u001b[0m     \u001b[1;32mif\u001b[0m \u001b[0mn\u001b[0m\u001b[1;33m==\u001b[0m\u001b[1;36m0\u001b[0m\u001b[1;33m:\u001b[0m\u001b[1;33m\u001b[0m\u001b[1;33m\u001b[0m\u001b[0m\n\u001b[0;32m      4\u001b[0m         \u001b[0mprint\u001b[0m\u001b[1;33m(\u001b[0m\u001b[1;34m'Cant divide'\u001b[0m\u001b[1;33m)\u001b[0m\u001b[1;33m\u001b[0m\u001b[1;33m\u001b[0m\u001b[0m\n\u001b[1;32m----> 5\u001b[1;33m     \u001b[0mprint\u001b[0m\u001b[1;33m(\u001b[0m\u001b[1;34m'20/{}={}'\u001b[0m\u001b[1;33m.\u001b[0m\u001b[0mformat\u001b[0m\u001b[1;33m(\u001b[0m\u001b[0mn\u001b[0m\u001b[1;33m,\u001b[0m\u001b[1;36m20\u001b[0m\u001b[1;33m/\u001b[0m\u001b[0mn\u001b[0m\u001b[1;33m)\u001b[0m\u001b[1;33m)\u001b[0m\u001b[1;33m\u001b[0m\u001b[1;33m\u001b[0m\u001b[0m\n\u001b[0m",
      "\u001b[1;31mZeroDivisionError\u001b[0m: division by zero"
     ]
    }
   ],
   "source": [
    "num =[10,20,0,40,0]\n",
    "for n in num:\n",
    "    if n==0:\n",
    "        print('Cant divide')\n",
    "    print('20/{}={}'.format(n,20/n))"
   ]
  },
  {
   "cell_type": "code",
   "execution_count": 53,
   "id": "fd2dd997",
   "metadata": {},
   "outputs": [
    {
     "name": "stdout",
     "output_type": "stream",
     "text": [
      "0\n",
      "9\n",
      "18\n",
      "27\n",
      "36\n",
      "45\n",
      "54\n",
      "63\n",
      "72\n",
      "81\n",
      "90\n",
      "99\n"
     ]
    }
   ],
   "source": [
    "for i in range(100):\n",
    "    if i%9==0:\n",
    "        print(i)\n",
    "    else:pass"
   ]
  },
  {
   "cell_type": "code",
   "execution_count": 54,
   "id": "bc96262c",
   "metadata": {},
   "outputs": [
    {
     "name": "stdout",
     "output_type": "stream",
     "text": [
      "0\n",
      "9\n",
      "18\n",
      "27\n",
      "36\n",
      "45\n",
      "54\n",
      "63\n",
      "72\n",
      "81\n",
      "90\n",
      "99\n"
     ]
    }
   ],
   "source": [
    "for i in range(100):\n",
    "    if i%9==0:\n",
    "        print(i)"
   ]
  },
  {
   "cell_type": "code",
   "execution_count": 55,
   "id": "f5415b2c",
   "metadata": {},
   "outputs": [
    {
     "name": "stdout",
     "output_type": "stream",
     "text": [
      "10\n"
     ]
    }
   ],
   "source": [
    "z =10\n",
    "print(z)\n",
    "del(z)"
   ]
  },
  {
   "cell_type": "code",
   "execution_count": 56,
   "id": "f8fac6d6",
   "metadata": {},
   "outputs": [
    {
     "ename": "NameError",
     "evalue": "name 'z' is not defined",
     "output_type": "error",
     "traceback": [
      "\u001b[1;31m---------------------------------------------------------------------------\u001b[0m",
      "\u001b[1;31mNameError\u001b[0m                                 Traceback (most recent call last)",
      "\u001b[1;32m~\\AppData\\Local\\Temp\\ipykernel_14480\\1705769632.py\u001b[0m in \u001b[0;36m<module>\u001b[1;34m\u001b[0m\n\u001b[1;32m----> 1\u001b[1;33m \u001b[0mz\u001b[0m\u001b[1;33m\u001b[0m\u001b[1;33m\u001b[0m\u001b[0m\n\u001b[0m",
      "\u001b[1;31mNameError\u001b[0m: name 'z' is not defined"
     ]
    }
   ],
   "source": [
    "z"
   ]
  },
  {
   "cell_type": "code",
   "execution_count": 57,
   "id": "71dc2cd2",
   "metadata": {},
   "outputs": [
    {
     "name": "stdout",
     "output_type": "stream",
     "text": [
      "10\n"
     ]
    }
   ],
   "source": [
    "y =10\n",
    "print(y)"
   ]
  },
  {
   "cell_type": "code",
   "execution_count": 58,
   "id": "a269af2a",
   "metadata": {},
   "outputs": [
    {
     "data": {
      "text/plain": [
       "10"
      ]
     },
     "execution_count": 58,
     "metadata": {},
     "output_type": "execute_result"
    }
   ],
   "source": [
    "y"
   ]
  },
  {
   "cell_type": "code",
   "execution_count": 59,
   "id": "0ea768ed",
   "metadata": {},
   "outputs": [
    {
     "name": "stdout",
     "output_type": "stream",
     "text": [
      "None\n"
     ]
    }
   ],
   "source": [
    "s ='achyuth'\n",
    "s=None\n",
    "print(s)"
   ]
  },
  {
   "cell_type": "code",
   "execution_count": 64,
   "id": "e5427865",
   "metadata": {},
   "outputs": [
    {
     "name": "stdout",
     "output_type": "stream",
     "text": [
      "Enter value:5\n",
      "*****"
     ]
    }
   ],
   "source": [
    "n=int(input('Enter value:'))\n",
    "for i in range(n):\n",
    "    print('*',end='')\n",
    "    "
   ]
  },
  {
   "cell_type": "code",
   "execution_count": 66,
   "id": "e7ec8c5c",
   "metadata": {},
   "outputs": [
    {
     "name": "stdout",
     "output_type": "stream",
     "text": [
      "Enter value:5\n",
      "*****\n",
      "*****\n",
      "*****\n",
      "*****\n",
      "*****\n"
     ]
    }
   ],
   "source": [
    "n=int(input('Enter value:'))\n",
    "for i in range(n):\n",
    "    print('*'*n)"
   ]
  },
  {
   "cell_type": "code",
   "execution_count": 67,
   "id": "8c9d6be5",
   "metadata": {},
   "outputs": [
    {
     "name": "stdout",
     "output_type": "stream",
     "text": [
      "Enter value:5\n",
      "11111\n",
      "22222\n",
      "33333\n",
      "44444\n",
      "55555\n"
     ]
    }
   ],
   "source": [
    "n=int(input('Enter value:'))\n",
    "for i in range(n):\n",
    "    print((str(i+1)+'')*n)"
   ]
  },
  {
   "cell_type": "code",
   "execution_count": 73,
   "id": "a6a013e7",
   "metadata": {},
   "outputs": [
    {
     "name": "stdout",
     "output_type": "stream",
     "text": [
      "Enter value:5\n",
      "00000\n",
      "11111\n",
      "22222\n",
      "33333\n",
      "44444\n"
     ]
    }
   ],
   "source": [
    "n=int(input('Enter value:'))\n",
    "for i in range(n):\n",
    "    print(str(i)*n)"
   ]
  },
  {
   "cell_type": "code",
   "execution_count": 77,
   "id": "c2f5ed08",
   "metadata": {},
   "outputs": [
    {
     "name": "stdout",
     "output_type": "stream",
     "text": [
      "Enter value:3\n",
      "AAA\n",
      "BBB\n",
      "CCC\n"
     ]
    }
   ],
   "source": [
    "n=int(input('Enter value:'))\n",
    "for i in range(n):\n",
    "    print((chr(65+i)*n))"
   ]
  },
  {
   "cell_type": "code",
   "execution_count": 79,
   "id": "e568cd32",
   "metadata": {},
   "outputs": [
    {
     "name": "stdout",
     "output_type": "stream",
     "text": [
      "Enter value:5\n",
      "\n",
      "*\n",
      "**\n",
      "***\n",
      "****\n"
     ]
    }
   ],
   "source": [
    "n=int(input('Enter value:'))\n",
    "for i in range(n):\n",
    "    print('*'*i)"
   ]
  },
  {
   "cell_type": "code",
   "execution_count": 80,
   "id": "e12cd1f6",
   "metadata": {},
   "outputs": [
    {
     "name": "stdout",
     "output_type": "stream",
     "text": [
      "Enter value:5\n",
      "*****\n",
      "****\n",
      "***\n",
      "**\n",
      "*\n"
     ]
    }
   ],
   "source": [
    "n=int(input('Enter value:'))\n",
    "for i in range(n):\n",
    "    print('*'*(n-i))"
   ]
  },
  {
   "cell_type": "code",
   "execution_count": 81,
   "id": "e9104511",
   "metadata": {},
   "outputs": [
    {
     "name": "stdout",
     "output_type": "stream",
     "text": [
      "Enter value:5\n",
      "*\n",
      "**\n",
      "***\n",
      "****\n",
      "*****\n"
     ]
    }
   ],
   "source": [
    "n=int(input('Enter value:'))\n",
    "for i in range(n):\n",
    "    print("
   ]
  },
  {
   "cell_type": "code",
   "execution_count": 84,
   "id": "83197a80",
   "metadata": {},
   "outputs": [
    {
     "ename": "NameError",
     "evalue": "name 'rstrip' is not defined",
     "output_type": "error",
     "traceback": [
      "\u001b[1;31m---------------------------------------------------------------------------\u001b[0m",
      "\u001b[1;31mNameError\u001b[0m                                 Traceback (most recent call last)",
      "\u001b[1;32m~\\AppData\\Local\\Temp\\ipykernel_14480\\212670578.py\u001b[0m in \u001b[0;36m<module>\u001b[1;34m\u001b[0m\n\u001b[0;32m      1\u001b[0m \u001b[0mL\u001b[0m\u001b[1;33m=\u001b[0m \u001b[1;34m\"Achyuth Kumar\"\u001b[0m\u001b[1;33m\u001b[0m\u001b[1;33m\u001b[0m\u001b[0m\n\u001b[1;32m----> 2\u001b[1;33m \u001b[0mrstrip\u001b[0m\u001b[1;33m(\u001b[0m\u001b[0mL\u001b[0m\u001b[1;33m)\u001b[0m\u001b[1;33m\u001b[0m\u001b[1;33m\u001b[0m\u001b[0m\n\u001b[0m",
      "\u001b[1;31mNameError\u001b[0m: name 'rstrip' is not defined"
     ]
    }
   ],
   "source": [
    "L= \"Achyuth Kumar\"\n",
    "rstrip(L)\n"
   ]
  },
  {
   "cell_type": "code",
   "execution_count": 87,
   "id": "bd7b78e5",
   "metadata": {},
   "outputs": [
    {
     "name": "stdout",
     "output_type": "stream",
     "text": [
      "achyuth!rajesh!kumar\n"
     ]
    }
   ],
   "source": [
    "l='achyuth','rajesh','kumar'\n",
    "s='!'.join(l)\n",
    "print(s)"
   ]
  },
  {
   "cell_type": "code",
   "execution_count": 93,
   "id": "5b363572",
   "metadata": {},
   "outputs": [
    {
     "data": {
      "text/plain": [
       "'Achyuth kumar'"
      ]
     },
     "execution_count": 93,
     "metadata": {},
     "output_type": "execute_result"
    }
   ],
   "source": [
    "l='Achyuth kUmar'\n",
    "l.capitalize()"
   ]
  },
  {
   "cell_type": "code",
   "execution_count": 95,
   "id": "25805549",
   "metadata": {},
   "outputs": [
    {
     "name": "stdout",
     "output_type": "stream",
     "text": [
      "ramUk htuyhcA\n"
     ]
    }
   ],
   "source": [
    "print(l[::-1])"
   ]
  },
  {
   "cell_type": "code",
   "execution_count": 19,
   "id": "8ef407cc",
   "metadata": {},
   "outputs": [
    {
     "name": "stdout",
     "output_type": "stream",
     "text": [
      "*\n",
      "**\n",
      "***\n",
      "****\n",
      "*****\n"
     ]
    },
    {
     "ename": "SyntaxError",
     "evalue": "'return' outside function (3035989814.py, line 7)",
     "output_type": "error",
     "traceback": [
      "\u001b[1;36m  File \u001b[1;32m\"C:\\Users\\achyu\\AppData\\Local\\Temp\\ipykernel_13804\\3035989814.py\"\u001b[1;36m, line \u001b[1;32m7\u001b[0m\n\u001b[1;33m    return range\u001b[0m\n\u001b[1;37m    ^\u001b[0m\n\u001b[1;31mSyntaxError\u001b[0m\u001b[1;31m:\u001b[0m 'return' outside function\n"
     ]
    }
   ],
   "source": [
    "def py():\n",
    "    for i in range(1,6):\n",
    "        for j in range(1,i+1):\n",
    "            print('*',end=\"\")\n",
    "        print()\n",
    "py()\n"
   ]
  },
  {
   "cell_type": "code",
   "execution_count": 17,
   "id": "c101d552",
   "metadata": {},
   "outputs": [
    {
     "ename": "IndentationError",
     "evalue": "expected an indented block (1182289856.py, line 3)",
     "output_type": "error",
     "traceback": [
      "\u001b[1;36m  File \u001b[1;32m\"C:\\Users\\achyu\\AppData\\Local\\Temp\\ipykernel_13804\\1182289856.py\"\u001b[1;36m, line \u001b[1;32m3\u001b[0m\n\u001b[1;33m    for j in range(1,i+1):\u001b[0m\n\u001b[1;37m    ^\u001b[0m\n\u001b[1;31mIndentationError\u001b[0m\u001b[1;31m:\u001b[0m expected an indented block\n"
     ]
    }
   ],
   "source": [
    "def py():\n",
    "    for i in range(1,6):\n",
    "    for j in range(1,i+1):\n",
    "        print('*',end=\"\")\n",
    "        print()\n",
    "py()\n"
   ]
  },
  {
   "cell_type": "code",
   "execution_count": 12,
   "id": "c52b8cc8",
   "metadata": {},
   "outputs": [
    {
     "data": {
      "text/plain": [
       "range(0, 0)"
      ]
     },
     "execution_count": 12,
     "metadata": {},
     "output_type": "execute_result"
    }
   ],
   "source": [
    "range(0)"
   ]
  },
  {
   "cell_type": "code",
   "execution_count": 25,
   "id": "ad588874",
   "metadata": {},
   "outputs": [],
   "source": [
    "a=10\n",
    "b=25\n",
    "def sum(a,b):\n",
    "    c=a+b\n",
    "    return c\n",
    "    x =sum(10,15)\n",
    "    print('the sum is:',x)\n",
    "    y =sum(1.5,25.2)\n",
    "    print('The sum is:',y)\n"
   ]
  },
  {
   "cell_type": "code",
   "execution_count": 29,
   "id": "60aabb44",
   "metadata": {},
   "outputs": [
    {
     "name": "stdout",
     "output_type": "stream",
     "text": [
      "Result of additon: 15\n",
      "Result of subtraction: 5\n"
     ]
    }
   ],
   "source": [
    "def sum_sub(a,b):\n",
    "    c=a+b\n",
    "    d=a-b\n",
    "    return c,d\n",
    "x,y =sum_sub(10,5)\n",
    "print('Result of additon:',x)\n",
    "print('Result of subtraction:')\n",
    "\n"
   ]
  },
  {
   "cell_type": "code",
   "execution_count": 31,
   "id": "cd2b9d3f",
   "metadata": {},
   "outputs": [
    {
     "name": "stdout",
     "output_type": "stream",
     "text": [
      "Result of additon: 15\n",
      "Result of subtraction: 5\n"
     ]
    }
   ],
   "source": [
    "def sum_sub(a,b):\n",
    "    c=a+b\n",
    "    d=a-b\n",
    "    return c,d\n",
    "x,y =sum_sub(10,5)\n",
    "print('Result of additon:',x)\n",
    "print('Result of subtraction:',y)\n"
   ]
  },
  {
   "cell_type": "code",
   "execution_count": 44,
   "id": "1e36b4aa",
   "metadata": {},
   "outputs": [
    {
     "name": "stdout",
     "output_type": "stream",
     "text": [
      "Hi krishna\n"
     ]
    }
   ],
   "source": [
    "def display(str):\n",
    "    return 'Hi '+str\n",
    "x=display('krishna')\n",
    "print(x)\n"
   ]
  },
  {
   "cell_type": "code",
   "execution_count": 37,
   "id": "18493013",
   "metadata": {},
   "outputs": [
    {
     "data": {
      "text/plain": [
       "'hello'"
      ]
     },
     "execution_count": 37,
     "metadata": {},
     "output_type": "execute_result"
    }
   ],
   "source": [
    "def achyuth(str):\n",
    "    return 'hello'\n",
    "achyuth(str)\n",
    "    "
   ]
  },
  {
   "cell_type": "code",
   "execution_count": 40,
   "id": "e3ca9639",
   "metadata": {},
   "outputs": [
    {
     "data": {
      "text/plain": [
       "<function __main__.achyuth(str)>"
      ]
     },
     "execution_count": 40,
     "metadata": {},
     "output_type": "execute_result"
    }
   ],
   "source": [
    "achyuth"
   ]
  },
  {
   "cell_type": "code",
   "execution_count": 41,
   "id": "075765e3",
   "metadata": {},
   "outputs": [
    {
     "name": "stdout",
     "output_type": "stream",
     "text": [
      "*\n",
      "**\n",
      "***\n",
      "****\n",
      "*****\n"
     ]
    }
   ],
   "source": [
    "py()"
   ]
  },
  {
   "cell_type": "code",
   "execution_count": 42,
   "id": "448405eb",
   "metadata": {},
   "outputs": [
    {
     "ename": "TypeError",
     "evalue": "sum_sub() missing 2 required positional arguments: 'a' and 'b'",
     "output_type": "error",
     "traceback": [
      "\u001b[1;31m---------------------------------------------------------------------------\u001b[0m",
      "\u001b[1;31mTypeError\u001b[0m                                 Traceback (most recent call last)",
      "\u001b[1;32m~\\AppData\\Local\\Temp\\ipykernel_13804\\3816887618.py\u001b[0m in \u001b[0;36m<module>\u001b[1;34m\u001b[0m\n\u001b[1;32m----> 1\u001b[1;33m \u001b[0msum_sub\u001b[0m\u001b[1;33m(\u001b[0m\u001b[1;33m)\u001b[0m\u001b[1;33m\u001b[0m\u001b[1;33m\u001b[0m\u001b[0m\n\u001b[0m",
      "\u001b[1;31mTypeError\u001b[0m: sum_sub() missing 2 required positional arguments: 'a' and 'b'"
     ]
    }
   ],
   "source": [
    "sum_sub()"
   ]
  },
  {
   "cell_type": "code",
   "execution_count": 45,
   "id": "1387f4af",
   "metadata": {},
   "outputs": [
    {
     "data": {
      "text/plain": [
       "1465007762000"
      ]
     },
     "execution_count": 45,
     "metadata": {},
     "output_type": "execute_result"
    }
   ],
   "source": [
    "x=10\n",
    "id (x)"
   ]
  },
  {
   "cell_type": "code",
   "execution_count": 46,
   "id": "b5f1be08",
   "metadata": {},
   "outputs": [
    {
     "name": "stdout",
     "output_type": "stream",
     "text": [
      "15 1465007762160\n",
      "10 1465007762000\n"
     ]
    }
   ],
   "source": [
    "def modify(x):\n",
    "    x=15\n",
    "    print(x,id(x))\n",
    "    \n",
    "x=10\n",
    "modify(x)\n",
    "print(x,id(x))"
   ]
  },
  {
   "cell_type": "code",
   "execution_count": 47,
   "id": "5a779948",
   "metadata": {},
   "outputs": [
    {
     "ename": "TypeError",
     "evalue": "modify() takes 0 positional arguments but 1 was given",
     "output_type": "error",
     "traceback": [
      "\u001b[1;31m---------------------------------------------------------------------------\u001b[0m",
      "\u001b[1;31mTypeError\u001b[0m                                 Traceback (most recent call last)",
      "\u001b[1;32m~\\AppData\\Local\\Temp\\ipykernel_13804\\234180680.py\u001b[0m in \u001b[0;36m<module>\u001b[1;34m\u001b[0m\n\u001b[0;32m      4\u001b[0m \u001b[1;33m\u001b[0m\u001b[0m\n\u001b[0;32m      5\u001b[0m \u001b[0mx\u001b[0m\u001b[1;33m=\u001b[0m\u001b[1;36m10\u001b[0m\u001b[1;33m\u001b[0m\u001b[1;33m\u001b[0m\u001b[0m\n\u001b[1;32m----> 6\u001b[1;33m \u001b[0mmodify\u001b[0m\u001b[1;33m(\u001b[0m\u001b[0mx\u001b[0m\u001b[1;33m)\u001b[0m\u001b[1;33m\u001b[0m\u001b[1;33m\u001b[0m\u001b[0m\n\u001b[0m\u001b[0;32m      7\u001b[0m \u001b[0mprint\u001b[0m\u001b[1;33m(\u001b[0m\u001b[0mx\u001b[0m\u001b[1;33m,\u001b[0m\u001b[0mid\u001b[0m\u001b[1;33m(\u001b[0m\u001b[0mx\u001b[0m\u001b[1;33m)\u001b[0m\u001b[1;33m)\u001b[0m\u001b[1;33m\u001b[0m\u001b[1;33m\u001b[0m\u001b[0m\n",
      "\u001b[1;31mTypeError\u001b[0m: modify() takes 0 positional arguments but 1 was given"
     ]
    }
   ],
   "source": [
    "def modify():\n",
    "    x=15\n",
    "    print(x,id(x))\n",
    "    \n",
    "x=10\n",
    "modify(x)\n",
    "print(x,id(x))"
   ]
  },
  {
   "cell_type": "code",
   "execution_count": 52,
   "id": "7b7e54d0",
   "metadata": {},
   "outputs": [],
   "source": [
    "def sum(a,b):\n",
    "    c=a+b\n",
    "    print(c)\n",
    "    x=10; y=15\n",
    "    sum(x,y)\n",
    "\n"
   ]
  },
  {
   "cell_type": "markdown",
   "id": "343c5d35",
   "metadata": {},
   "source": [
    "def attach(s1,s2):\n",
    "    s3=s1+s2\n",
    "    print('Total string:'+s3)\n",
    "attach('Achyuth ','Kumar')"
   ]
  },
  {
   "cell_type": "code",
   "execution_count": 60,
   "id": "ce4434cd",
   "metadata": {},
   "outputs": [
    {
     "name": "stdout",
     "output_type": "stream",
     "text": [
      "Total string:newyork\n"
     ]
    }
   ],
   "source": [
    "attach('new', 'york')"
   ]
  },
  {
   "cell_type": "markdown",
   "id": "b5684840",
   "metadata": {},
   "source": [
    "#File Handling\n"
   ]
  },
  {
   "cell_type": "code",
   "execution_count": 1,
   "id": "04d9601d",
   "metadata": {},
   "outputs": [
    {
     "ename": "NameError",
     "evalue": "name 'filepath' is not defined",
     "output_type": "error",
     "traceback": [
      "\u001b[1;31m---------------------------------------------------------------------------\u001b[0m",
      "\u001b[1;31mNameError\u001b[0m                                 Traceback (most recent call last)",
      "\u001b[1;32m~\\AppData\\Local\\Temp\\ipykernel_15384\\1374462774.py\u001b[0m in \u001b[0;36m<module>\u001b[1;34m\u001b[0m\n\u001b[1;32m----> 1\u001b[1;33m \u001b[0mfilevariable\u001b[0m\u001b[1;33m=\u001b[0m\u001b[0mopen\u001b[0m\u001b[1;33m(\u001b[0m\u001b[0mfilepath\u001b[0m\u001b[1;33m,\u001b[0m\u001b[0mAccessMode\u001b[0m \u001b[1;33m=\u001b[0m\u001b[1;34m'r'\u001b[0m\u001b[1;33m)\u001b[0m\u001b[1;33m\u001b[0m\u001b[1;33m\u001b[0m\u001b[0m\n\u001b[0m",
      "\u001b[1;31mNameError\u001b[0m: name 'filepath' is not defined"
     ]
    }
   ],
   "source": [
    "filevariable=open(filepath,AccessMode ='r')"
   ]
  },
  {
   "cell_type": "code",
   "execution_count": 2,
   "id": "1f4bb8ff",
   "metadata": {},
   "outputs": [
    {
     "ename": "SyntaxError",
     "evalue": "invalid syntax (107346273.py, line 2)",
     "output_type": "error",
     "traceback": [
      "\u001b[1;36m  File \u001b[1;32m\"C:\\Users\\achyu\\AppData\\Local\\Temp\\ipykernel_15384\\107346273.py\"\u001b[1;36m, line \u001b[1;32m2\u001b[0m\n\u001b[1;33m    -Read Mode\u001b[0m\n\u001b[1;37m          ^\u001b[0m\n\u001b[1;31mSyntaxError\u001b[0m\u001b[1;31m:\u001b[0m invalid syntax\n"
     ]
    }
   ],
   "source": [
    "####Access Mode\n",
    "-Read Mode\n",
    "    -r\n",
    "    -r+\n",
    "-Write Mode\n",
    "   -w\n",
    "   "
   ]
  },
  {
   "cell_type": "code",
   "execution_count": 3,
   "id": "1939ff95",
   "metadata": {},
   "outputs": [
    {
     "ename": "SyntaxError",
     "evalue": "invalid syntax (4074112029.py, line 1)",
     "output_type": "error",
     "traceback": [
      "\u001b[1;36m  File \u001b[1;32m\"C:\\Users\\achyu\\AppData\\Local\\Temp\\ipykernel_15384\\4074112029.py\"\u001b[1;36m, line \u001b[1;32m1\u001b[0m\n\u001b[1;33m    fv=open(http://localhost:8888/notebooks/practice.ipynb)\u001b[0m\n\u001b[1;37m                ^\u001b[0m\n\u001b[1;31mSyntaxError\u001b[0m\u001b[1;31m:\u001b[0m invalid syntax\n"
     ]
    }
   ],
   "source": [
    " fv=open(http://localhost:8888/notebooks/practice.ipynb)"
   ]
  },
  {
   "cell_type": "code",
   "execution_count": null,
   "id": "48a1d902",
   "metadata": {},
   "outputs": [],
   "source": []
  }
 ],
 "metadata": {
  "kernelspec": {
   "display_name": "Python 3 (ipykernel)",
   "language": "python",
   "name": "python3"
  },
  "language_info": {
   "codemirror_mode": {
    "name": "ipython",
    "version": 3
   },
   "file_extension": ".py",
   "mimetype": "text/x-python",
   "name": "python",
   "nbconvert_exporter": "python",
   "pygments_lexer": "ipython3",
   "version": "3.9.13"
  }
 },
 "nbformat": 4,
 "nbformat_minor": 5
}
